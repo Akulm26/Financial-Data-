{
  "nbformat": 4,
  "nbformat_minor": 0,
  "metadata": {
    "colab": {
      "name": "Bank_pyspark.ipynb",
      "provenance": []
    },
    "kernelspec": {
      "name": "python3",
      "display_name": "Python 3"
    },
    "language_info": {
      "name": "python"
    }
  },
  "cells": [
    {
      "cell_type": "code",
      "metadata": {
        "colab": {
          "base_uri": "https://localhost:8080/"
        },
        "id": "0nMy5D2bwDre",
        "outputId": "6d056577-c17c-4bb8-e67d-d1b2c42d9f38"
      },
      "source": [
        "# mount\n",
        "from google.colab import drive\n",
        "drive.mount('/content/drive')"
      ],
      "execution_count": 3,
      "outputs": [
        {
          "output_type": "stream",
          "text": [
            "Mounted at /content/drive\n"
          ],
          "name": "stdout"
        }
      ]
    },
    {
      "cell_type": "code",
      "metadata": {
        "colab": {
          "base_uri": "https://localhost:8080/"
        },
        "id": "5yNWDLdDwfzr",
        "outputId": "711a7cc5-94b8-4277-c3be-041d79b998e4"
      },
      "source": [
        "!pip install pyspark"
      ],
      "execution_count": 4,
      "outputs": [
        {
          "output_type": "stream",
          "text": [
            "Collecting pyspark\n",
            "\u001b[?25l  Downloading https://files.pythonhosted.org/packages/89/db/e18cfd78e408de957821ec5ca56de1250645b05f8523d169803d8df35a64/pyspark-3.1.2.tar.gz (212.4MB)\n",
            "\u001b[K     |████████████████████████████████| 212.4MB 66kB/s \n",
            "\u001b[?25hCollecting py4j==0.10.9\n",
            "\u001b[?25l  Downloading https://files.pythonhosted.org/packages/9e/b6/6a4fb90cd235dc8e265a6a2067f2a2c99f0d91787f06aca4bcf7c23f3f80/py4j-0.10.9-py2.py3-none-any.whl (198kB)\n",
            "\u001b[K     |████████████████████████████████| 204kB 20.4MB/s \n",
            "\u001b[?25hBuilding wheels for collected packages: pyspark\n",
            "  Building wheel for pyspark (setup.py) ... \u001b[?25l\u001b[?25hdone\n",
            "  Created wheel for pyspark: filename=pyspark-3.1.2-py2.py3-none-any.whl size=212880768 sha256=a9e7803006fd7770ea459f18acbb5247780943faf5ad09fd758870bcd3c5db89\n",
            "  Stored in directory: /root/.cache/pip/wheels/40/1b/2c/30f43be2627857ab80062bef1527c0128f7b4070b6b2d02139\n",
            "Successfully built pyspark\n",
            "Installing collected packages: py4j, pyspark\n",
            "Successfully installed py4j-0.10.9 pyspark-3.1.2\n"
          ],
          "name": "stdout"
        }
      ]
    },
    {
      "cell_type": "code",
      "metadata": {
        "id": "IlB6UlUcxH_B"
      },
      "source": [
        "import pyspark\n",
        "from pyspark.sql import SparkSession\n",
        "spark = SparkSession.builder.appName(\"Bank-ml-pyspark\").getOrCreate()"
      ],
      "execution_count": 6,
      "outputs": []
    },
    {
      "cell_type": "code",
      "metadata": {
        "id": "55pDkJxdxRY8"
      },
      "source": [
        "df = spark.read.format('csv').option('header', True).load(\"/content/drive/MyDrive/Bank_PySpark /bank.csv\",inferSchema = True)"
      ],
      "execution_count": 7,
      "outputs": []
    },
    {
      "cell_type": "code",
      "metadata": {
        "colab": {
          "base_uri": "https://localhost:8080/"
        },
        "id": "dB4jxzSt0s_0",
        "outputId": "04be5305-e422-4361-e123-56bb6a7e102e"
      },
      "source": [
        "df.show(5)"
      ],
      "execution_count": 8,
      "outputs": [
        {
          "output_type": "stream",
          "text": [
            "+---+----------+-------+---------+-------+-------+-------+----+-------+---+-----+--------+--------+-----+--------+--------+-------+\n",
            "|age|       job|marital|education|default|balance|housing|loan|contact|day|month|duration|campaign|pdays|previous|poutcome|deposit|\n",
            "+---+----------+-------+---------+-------+-------+-------+----+-------+---+-----+--------+--------+-----+--------+--------+-------+\n",
            "| 59|    admin.|married|secondary|     no|   2343|    yes|  no|unknown|  5|  may|    1042|       1|   -1|       0| unknown|    yes|\n",
            "| 56|    admin.|married|secondary|     no|     45|     no|  no|unknown|  5|  may|    1467|       1|   -1|       0| unknown|    yes|\n",
            "| 41|technician|married|secondary|     no|   1270|    yes|  no|unknown|  5|  may|    1389|       1|   -1|       0| unknown|    yes|\n",
            "| 55|  services|married|secondary|     no|   2476|    yes|  no|unknown|  5|  may|     579|       1|   -1|       0| unknown|    yes|\n",
            "| 54|    admin.|married| tertiary|     no|    184|     no|  no|unknown|  5|  may|     673|       2|   -1|       0| unknown|    yes|\n",
            "+---+----------+-------+---------+-------+-------+-------+----+-------+---+-----+--------+--------+-----+--------+--------+-------+\n",
            "only showing top 5 rows\n",
            "\n"
          ],
          "name": "stdout"
        }
      ]
    },
    {
      "cell_type": "code",
      "metadata": {
        "colab": {
          "base_uri": "https://localhost:8080/"
        },
        "id": "69oe1cuL0vE5",
        "outputId": "0ce8afaf-9d05-4573-e91f-3e21855ed583"
      },
      "source": [
        "df.printSchema()"
      ],
      "execution_count": 9,
      "outputs": [
        {
          "output_type": "stream",
          "text": [
            "root\n",
            " |-- age: integer (nullable = true)\n",
            " |-- job: string (nullable = true)\n",
            " |-- marital: string (nullable = true)\n",
            " |-- education: string (nullable = true)\n",
            " |-- default: string (nullable = true)\n",
            " |-- balance: integer (nullable = true)\n",
            " |-- housing: string (nullable = true)\n",
            " |-- loan: string (nullable = true)\n",
            " |-- contact: string (nullable = true)\n",
            " |-- day: integer (nullable = true)\n",
            " |-- month: string (nullable = true)\n",
            " |-- duration: integer (nullable = true)\n",
            " |-- campaign: integer (nullable = true)\n",
            " |-- pdays: integer (nullable = true)\n",
            " |-- previous: integer (nullable = true)\n",
            " |-- poutcome: string (nullable = true)\n",
            " |-- deposit: string (nullable = true)\n",
            "\n"
          ],
          "name": "stdout"
        }
      ]
    },
    {
      "cell_type": "code",
      "metadata": {
        "colab": {
          "base_uri": "https://localhost:8080/"
        },
        "id": "mNQ8MC7B0yFN",
        "outputId": "8f924feb-e053-4a26-d111-cd66704d95fe"
      },
      "source": [
        "df.groupby('deposit').count().show()"
      ],
      "execution_count": 10,
      "outputs": [
        {
          "output_type": "stream",
          "text": [
            "+-------+-----+\n",
            "|deposit|count|\n",
            "+-------+-----+\n",
            "|     no| 5873|\n",
            "|    yes| 5289|\n",
            "+-------+-----+\n",
            "\n"
          ],
          "name": "stdout"
        }
      ]
    },
    {
      "cell_type": "code",
      "metadata": {
        "colab": {
          "base_uri": "https://localhost:8080/"
        },
        "id": "rGGL9-9x2bTU",
        "outputId": "e34e4824-00ba-469d-a473-944828aef5f9"
      },
      "source": [
        "df.describe().show()"
      ],
      "execution_count": 11,
      "outputs": [
        {
          "output_type": "stream",
          "text": [
            "+-------+------------------+-------+--------+---------+-------+------------------+-------+-----+--------+------------------+-----+------------------+------------------+------------------+------------------+--------+-------+\n",
            "|summary|               age|    job| marital|education|default|           balance|housing| loan| contact|               day|month|          duration|          campaign|             pdays|          previous|poutcome|deposit|\n",
            "+-------+------------------+-------+--------+---------+-------+------------------+-------+-----+--------+------------------+-----+------------------+------------------+------------------+------------------+--------+-------+\n",
            "|  count|             11162|  11162|   11162|    11162|  11162|             11162|  11162|11162|   11162|             11162|11162|             11162|             11162|             11162|             11162|   11162|  11162|\n",
            "|   mean|41.231947679627304|   null|    null|     null|   null|1528.5385235620856|   null| null|    null|15.658036194230425| null|371.99381831213043| 2.508421429851281| 51.33040673714388|0.8325568894463358|    null|   null|\n",
            "| stddev|11.913369192215518|   null|    null|     null|   null| 3225.413325946149|   null| null|    null| 8.420739541006462| null|347.12838571630687|2.7220771816614824|108.75828197197717| 2.292007218670508|    null|   null|\n",
            "|    min|                18| admin.|divorced|  primary|     no|             -6847|     no|   no|cellular|                 1|  apr|                 2|                 1|                -1|                 0| failure|     no|\n",
            "|    max|                95|unknown|  single|  unknown|    yes|             81204|    yes|  yes| unknown|                31|  sep|              3881|                63|               854|                58| unknown|    yes|\n",
            "+-------+------------------+-------+--------+---------+-------+------------------+-------+-----+--------+------------------+-----+------------------+------------------+------------------+------------------+--------+-------+\n",
            "\n"
          ],
          "name": "stdout"
        }
      ]
    },
    {
      "cell_type": "code",
      "metadata": {
        "colab": {
          "base_uri": "https://localhost:8080/"
        },
        "id": "vxXykd2o2iRD",
        "outputId": "c9461cef-6932-4260-8bea-25d2a88756b9"
      },
      "source": [
        "df.dtypes"
      ],
      "execution_count": 12,
      "outputs": [
        {
          "output_type": "execute_result",
          "data": {
            "text/plain": [
              "[('age', 'int'),\n",
              " ('job', 'string'),\n",
              " ('marital', 'string'),\n",
              " ('education', 'string'),\n",
              " ('default', 'string'),\n",
              " ('balance', 'int'),\n",
              " ('housing', 'string'),\n",
              " ('loan', 'string'),\n",
              " ('contact', 'string'),\n",
              " ('day', 'int'),\n",
              " ('month', 'string'),\n",
              " ('duration', 'int'),\n",
              " ('campaign', 'int'),\n",
              " ('pdays', 'int'),\n",
              " ('previous', 'int'),\n",
              " ('poutcome', 'string'),\n",
              " ('deposit', 'string')]"
            ]
          },
          "metadata": {
            "tags": []
          },
          "execution_count": 12
        }
      ]
    },
    {
      "cell_type": "code",
      "metadata": {
        "colab": {
          "base_uri": "https://localhost:8080/"
        },
        "id": "wy5EHdPG2kFx",
        "outputId": "4da53660-9556-44f9-9c91-65127209925b"
      },
      "source": [
        "## Extract all numeric columns\n",
        "\n",
        "numeric_variables = []\n",
        "\n",
        "for i in df.dtypes:\n",
        "    if i[1] == 'int':\n",
        "        numeric_variables.append(i[0])\n",
        "        \n",
        "numeric_variables"
      ],
      "execution_count": 13,
      "outputs": [
        {
          "output_type": "execute_result",
          "data": {
            "text/plain": [
              "['age', 'balance', 'day', 'duration', 'campaign', 'pdays', 'previous']"
            ]
          },
          "metadata": {
            "tags": []
          },
          "execution_count": 13
        }
      ]
    },
    {
      "cell_type": "code",
      "metadata": {
        "colab": {
          "base_uri": "https://localhost:8080/"
        },
        "id": "dWTt1KVC2n40",
        "outputId": "07f69026-65a8-4a41-b794-dfebc819c80e"
      },
      "source": [
        "df.select(numeric_variables).describe().show()"
      ],
      "execution_count": 14,
      "outputs": [
        {
          "output_type": "stream",
          "text": [
            "+-------+------------------+------------------+------------------+------------------+------------------+------------------+------------------+\n",
            "|summary|               age|           balance|               day|          duration|          campaign|             pdays|          previous|\n",
            "+-------+------------------+------------------+------------------+------------------+------------------+------------------+------------------+\n",
            "|  count|             11162|             11162|             11162|             11162|             11162|             11162|             11162|\n",
            "|   mean|41.231947679627304|1528.5385235620856|15.658036194230425|371.99381831213043| 2.508421429851281| 51.33040673714388|0.8325568894463358|\n",
            "| stddev|11.913369192215518| 3225.413325946149| 8.420739541006462|347.12838571630687|2.7220771816614824|108.75828197197717| 2.292007218670508|\n",
            "|    min|                18|             -6847|                 1|                 2|                 1|                -1|                 0|\n",
            "|    max|                95|             81204|                31|              3881|                63|               854|                58|\n",
            "+-------+------------------+------------------+------------------+------------------+------------------+------------------+------------------+\n",
            "\n"
          ],
          "name": "stdout"
        }
      ]
    },
    {
      "cell_type": "code",
      "metadata": {
        "colab": {
          "base_uri": "https://localhost:8080/"
        },
        "id": "yDZqN8Cc2vFm",
        "outputId": "a49ce9e4-0a1e-48b2-c8e8-e196bbfa7c3a"
      },
      "source": [
        "numeric_data = df.select(numeric_variables)\n",
        "numeric_data.show()"
      ],
      "execution_count": 15,
      "outputs": [
        {
          "output_type": "stream",
          "text": [
            "+---+-------+---+--------+--------+-----+--------+\n",
            "|age|balance|day|duration|campaign|pdays|previous|\n",
            "+---+-------+---+--------+--------+-----+--------+\n",
            "| 59|   2343|  5|    1042|       1|   -1|       0|\n",
            "| 56|     45|  5|    1467|       1|   -1|       0|\n",
            "| 41|   1270|  5|    1389|       1|   -1|       0|\n",
            "| 55|   2476|  5|     579|       1|   -1|       0|\n",
            "| 54|    184|  5|     673|       2|   -1|       0|\n",
            "| 42|      0|  5|     562|       2|   -1|       0|\n",
            "| 56|    830|  6|    1201|       1|   -1|       0|\n",
            "| 60|    545|  6|    1030|       1|   -1|       0|\n",
            "| 37|      1|  6|     608|       1|   -1|       0|\n",
            "| 28|   5090|  6|    1297|       3|   -1|       0|\n",
            "| 38|    100|  7|     786|       1|   -1|       0|\n",
            "| 30|    309|  7|    1574|       2|   -1|       0|\n",
            "| 29|    199|  7|    1689|       4|   -1|       0|\n",
            "| 46|    460|  7|    1102|       2|   -1|       0|\n",
            "| 31|    703|  8|     943|       2|   -1|       0|\n",
            "| 35|   3837|  8|    1084|       1|   -1|       0|\n",
            "| 32|    611|  8|     541|       3|   -1|       0|\n",
            "| 49|     -8|  8|    1119|       1|   -1|       0|\n",
            "| 41|     55|  8|    1120|       2|   -1|       0|\n",
            "| 49|    168|  8|     513|       1|   -1|       0|\n",
            "+---+-------+---+--------+--------+-----+--------+\n",
            "only showing top 20 rows\n",
            "\n"
          ],
          "name": "stdout"
        }
      ]
    },
    {
      "cell_type": "code",
      "metadata": {
        "colab": {
          "base_uri": "https://localhost:8080/"
        },
        "id": "DYT_-PVI3JPS",
        "outputId": "570c359b-7af1-49e1-8c3f-d38446fca9ab"
      },
      "source": [
        "#Correlation Matrix\n",
        "from pyspark.ml.feature import VectorAssembler\n",
        "from pyspark.ml.stat import Correlation\n",
        " \n",
        "assembler = VectorAssembler(\n",
        "  inputCols = ['age', 'balance', 'day', 'duration', 'campaign', 'pdays', 'previous']\n",
        "  , outputCol = \"features\"\n",
        ")\n",
        "assembled = assembler.transform(numeric_data)\n",
        " \n",
        "pearson_corr = Correlation.corr(assembled, \"features\")\n",
        " \n",
        "corr_list = pearson_corr.head()[0].toArray().tolist()\n",
        "pearson_corr_df = spark.createDataFrame(corr_list)\n",
        "pearson_corr_df.show(truncate=False)"
      ],
      "execution_count": 16,
      "outputs": [
        {
          "output_type": "stream",
          "text": [
            "+---------------------+---------------------+---------------------+---------------------+---------------------+--------------------+---------------------+\n",
            "|_1                   |_2                   |_3                   |_4                   |_5                   |_6                  |_7                   |\n",
            "+---------------------+---------------------+---------------------+---------------------+---------------------+--------------------+---------------------+\n",
            "|1.0                  |0.11229988859873077  |-7.624209205460373E-4|1.892280737142355E-4 |-0.005277936156040414|0.002773834311769889|0.020168561218448653 |\n",
            "|0.11229988859873077  |1.0                  |0.010467439549070189 |0.022436131268962788 |-0.013893822542985367|0.01741114863267663 |0.03080524687156654  |\n",
            "|-7.624209205460373E-4|0.010467439549070189 |1.0                  |-0.018511399167089358|0.13700683429735389  |-0.07723161298141434|-0.05898068354621966 |\n",
            "|1.892280737142355E-4 |0.022436131268962788 |-0.018511399167089358|1.0                  |-0.04155745875962242 |-0.02739155324504362|-0.026716171271672622|\n",
            "|-0.005277936156040414|-0.013893822542985367|0.13700683429735389  |-0.04155745875962242 |1.0                  |-0.10272604750935362|-0.0496994979745621  |\n",
            "|0.002773834311769889 |0.01741114863267663  |-0.07723161298141434 |-0.02739155324504362 |-0.10272604750935362 |1.0                 |0.507271588372842    |\n",
            "|0.020168561218448653 |0.03080524687156654  |-0.05898068354621966 |-0.026716171271672622|-0.0496994979745621  |0.507271588372842   |1.0                  |\n",
            "+---------------------+---------------------+---------------------+---------------------+---------------------+--------------------+---------------------+\n",
            "\n"
          ],
          "name": "stdout"
        }
      ]
    },
    {
      "cell_type": "code",
      "metadata": {
        "colab": {
          "base_uri": "https://localhost:8080/"
        },
        "id": "KQeox3WY6fEs",
        "outputId": "94f68ecf-157e-447d-92bf-4c09eee08c2a"
      },
      "source": [
        "df.show()"
      ],
      "execution_count": 17,
      "outputs": [
        {
          "output_type": "stream",
          "text": [
            "+---+-----------+--------+---------+-------+-------+-------+----+-------+---+-----+--------+--------+-----+--------+--------+-------+\n",
            "|age|        job| marital|education|default|balance|housing|loan|contact|day|month|duration|campaign|pdays|previous|poutcome|deposit|\n",
            "+---+-----------+--------+---------+-------+-------+-------+----+-------+---+-----+--------+--------+-----+--------+--------+-------+\n",
            "| 59|     admin.| married|secondary|     no|   2343|    yes|  no|unknown|  5|  may|    1042|       1|   -1|       0| unknown|    yes|\n",
            "| 56|     admin.| married|secondary|     no|     45|     no|  no|unknown|  5|  may|    1467|       1|   -1|       0| unknown|    yes|\n",
            "| 41| technician| married|secondary|     no|   1270|    yes|  no|unknown|  5|  may|    1389|       1|   -1|       0| unknown|    yes|\n",
            "| 55|   services| married|secondary|     no|   2476|    yes|  no|unknown|  5|  may|     579|       1|   -1|       0| unknown|    yes|\n",
            "| 54|     admin.| married| tertiary|     no|    184|     no|  no|unknown|  5|  may|     673|       2|   -1|       0| unknown|    yes|\n",
            "| 42| management|  single| tertiary|     no|      0|    yes| yes|unknown|  5|  may|     562|       2|   -1|       0| unknown|    yes|\n",
            "| 56| management| married| tertiary|     no|    830|    yes| yes|unknown|  6|  may|    1201|       1|   -1|       0| unknown|    yes|\n",
            "| 60|    retired|divorced|secondary|     no|    545|    yes|  no|unknown|  6|  may|    1030|       1|   -1|       0| unknown|    yes|\n",
            "| 37| technician| married|secondary|     no|      1|    yes|  no|unknown|  6|  may|     608|       1|   -1|       0| unknown|    yes|\n",
            "| 28|   services|  single|secondary|     no|   5090|    yes|  no|unknown|  6|  may|    1297|       3|   -1|       0| unknown|    yes|\n",
            "| 38|     admin.|  single|secondary|     no|    100|    yes|  no|unknown|  7|  may|     786|       1|   -1|       0| unknown|    yes|\n",
            "| 30|blue-collar| married|secondary|     no|    309|    yes|  no|unknown|  7|  may|    1574|       2|   -1|       0| unknown|    yes|\n",
            "| 29| management| married| tertiary|     no|    199|    yes| yes|unknown|  7|  may|    1689|       4|   -1|       0| unknown|    yes|\n",
            "| 46|blue-collar|  single| tertiary|     no|    460|    yes|  no|unknown|  7|  may|    1102|       2|   -1|       0| unknown|    yes|\n",
            "| 31| technician|  single| tertiary|     no|    703|    yes|  no|unknown|  8|  may|     943|       2|   -1|       0| unknown|    yes|\n",
            "| 35| management|divorced| tertiary|     no|   3837|    yes|  no|unknown|  8|  may|    1084|       1|   -1|       0| unknown|    yes|\n",
            "| 32|blue-collar|  single|  primary|     no|    611|    yes|  no|unknown|  8|  may|     541|       3|   -1|       0| unknown|    yes|\n",
            "| 49|   services| married|secondary|     no|     -8|    yes|  no|unknown|  8|  may|    1119|       1|   -1|       0| unknown|    yes|\n",
            "| 41|     admin.| married|secondary|     no|     55|    yes|  no|unknown|  8|  may|    1120|       2|   -1|       0| unknown|    yes|\n",
            "| 49|     admin.|divorced|secondary|     no|    168|    yes| yes|unknown|  8|  may|     513|       1|   -1|       0| unknown|    yes|\n",
            "+---+-----------+--------+---------+-------+-------+-------+----+-------+---+-----+--------+--------+-----+--------+--------+-------+\n",
            "only showing top 20 rows\n",
            "\n"
          ],
          "name": "stdout"
        }
      ]
    },
    {
      "cell_type": "code",
      "metadata": {
        "id": "WJT9SWyr6gX5"
      },
      "source": [
        "# Dropping day and month columns from original dataframe\n",
        "df_final = df.drop(\"day\",\"month\")"
      ],
      "execution_count": 18,
      "outputs": []
    },
    {
      "cell_type": "code",
      "metadata": {
        "colab": {
          "base_uri": "https://localhost:8080/"
        },
        "id": "Zjc-E6bN7HoH",
        "outputId": "2d511f41-594c-4eaa-b5a1-806dba52b560"
      },
      "source": [
        "df_final.show()"
      ],
      "execution_count": 19,
      "outputs": [
        {
          "output_type": "stream",
          "text": [
            "+---+-----------+--------+---------+-------+-------+-------+----+-------+--------+--------+-----+--------+--------+-------+\n",
            "|age|        job| marital|education|default|balance|housing|loan|contact|duration|campaign|pdays|previous|poutcome|deposit|\n",
            "+---+-----------+--------+---------+-------+-------+-------+----+-------+--------+--------+-----+--------+--------+-------+\n",
            "| 59|     admin.| married|secondary|     no|   2343|    yes|  no|unknown|    1042|       1|   -1|       0| unknown|    yes|\n",
            "| 56|     admin.| married|secondary|     no|     45|     no|  no|unknown|    1467|       1|   -1|       0| unknown|    yes|\n",
            "| 41| technician| married|secondary|     no|   1270|    yes|  no|unknown|    1389|       1|   -1|       0| unknown|    yes|\n",
            "| 55|   services| married|secondary|     no|   2476|    yes|  no|unknown|     579|       1|   -1|       0| unknown|    yes|\n",
            "| 54|     admin.| married| tertiary|     no|    184|     no|  no|unknown|     673|       2|   -1|       0| unknown|    yes|\n",
            "| 42| management|  single| tertiary|     no|      0|    yes| yes|unknown|     562|       2|   -1|       0| unknown|    yes|\n",
            "| 56| management| married| tertiary|     no|    830|    yes| yes|unknown|    1201|       1|   -1|       0| unknown|    yes|\n",
            "| 60|    retired|divorced|secondary|     no|    545|    yes|  no|unknown|    1030|       1|   -1|       0| unknown|    yes|\n",
            "| 37| technician| married|secondary|     no|      1|    yes|  no|unknown|     608|       1|   -1|       0| unknown|    yes|\n",
            "| 28|   services|  single|secondary|     no|   5090|    yes|  no|unknown|    1297|       3|   -1|       0| unknown|    yes|\n",
            "| 38|     admin.|  single|secondary|     no|    100|    yes|  no|unknown|     786|       1|   -1|       0| unknown|    yes|\n",
            "| 30|blue-collar| married|secondary|     no|    309|    yes|  no|unknown|    1574|       2|   -1|       0| unknown|    yes|\n",
            "| 29| management| married| tertiary|     no|    199|    yes| yes|unknown|    1689|       4|   -1|       0| unknown|    yes|\n",
            "| 46|blue-collar|  single| tertiary|     no|    460|    yes|  no|unknown|    1102|       2|   -1|       0| unknown|    yes|\n",
            "| 31| technician|  single| tertiary|     no|    703|    yes|  no|unknown|     943|       2|   -1|       0| unknown|    yes|\n",
            "| 35| management|divorced| tertiary|     no|   3837|    yes|  no|unknown|    1084|       1|   -1|       0| unknown|    yes|\n",
            "| 32|blue-collar|  single|  primary|     no|    611|    yes|  no|unknown|     541|       3|   -1|       0| unknown|    yes|\n",
            "| 49|   services| married|secondary|     no|     -8|    yes|  no|unknown|    1119|       1|   -1|       0| unknown|    yes|\n",
            "| 41|     admin.| married|secondary|     no|     55|    yes|  no|unknown|    1120|       2|   -1|       0| unknown|    yes|\n",
            "| 49|     admin.|divorced|secondary|     no|    168|    yes| yes|unknown|     513|       1|   -1|       0| unknown|    yes|\n",
            "+---+-----------+--------+---------+-------+-------+-------+----+-------+--------+--------+-----+--------+--------+-------+\n",
            "only showing top 20 rows\n",
            "\n"
          ],
          "name": "stdout"
        }
      ]
    },
    {
      "cell_type": "code",
      "metadata": {
        "colab": {
          "base_uri": "https://localhost:8080/"
        },
        "id": "EgF60dUc7IoC",
        "outputId": "e184f24d-a3a0-4203-af31-166c4c306e82"
      },
      "source": [
        "print((df.count(), len(df.columns)))\n",
        "print((df_final.count(), len(df_final.columns)))\n",
        "print((numeric_data.count(), len(numeric_data.columns)))\n",
        "df_final.dtypes"
      ],
      "execution_count": 20,
      "outputs": [
        {
          "output_type": "stream",
          "text": [
            "(11162, 17)\n",
            "(11162, 15)\n",
            "(11162, 7)\n"
          ],
          "name": "stdout"
        },
        {
          "output_type": "execute_result",
          "data": {
            "text/plain": [
              "[('age', 'int'),\n",
              " ('job', 'string'),\n",
              " ('marital', 'string'),\n",
              " ('education', 'string'),\n",
              " ('default', 'string'),\n",
              " ('balance', 'int'),\n",
              " ('housing', 'string'),\n",
              " ('loan', 'string'),\n",
              " ('contact', 'string'),\n",
              " ('duration', 'int'),\n",
              " ('campaign', 'int'),\n",
              " ('pdays', 'int'),\n",
              " ('previous', 'int'),\n",
              " ('poutcome', 'string'),\n",
              " ('deposit', 'string')]"
            ]
          },
          "metadata": {
            "tags": []
          },
          "execution_count": 20
        }
      ]
    },
    {
      "cell_type": "code",
      "metadata": {
        "id": "sdeUI9Jb7k7_",
        "colab": {
          "base_uri": "https://localhost:8080/"
        },
        "outputId": "da5010dd-a0aa-4a8d-8eab-63f743e1eb4e"
      },
      "source": [
        "from pyspark.ml.feature import OneHotEncoder, StringIndexer, VectorAssembler\n",
        "categorical_variables = []\n",
        "\n",
        "for i in df.dtypes:\n",
        "    if i[1] == 'string':\n",
        "        categorical_variables.append(i[0])\n",
        "print(categorical_variables)       \n",
        "categorical_variables.remove('deposit')\n",
        "categorical_variables.remove('month')\n",
        "print(categorical_variables)\n",
        "stages = []\n",
        "print(stages)\n",
        "\n",
        "#Stringindexer and OneHotEncoderEstimator for all categorical variables\n",
        "for categorical_col in categorical_variables:\n",
        "  stringIndexer = StringIndexer(inputCol= categorical_col, outputCol= categorical_col + \"Index\")\n",
        "  encoder = OneHotEncoder(inputCols=[stringIndexer.getOutputCol()], outputCols=[categorical_col + \"classVec\"])\n",
        "  stages += [stringIndexer, encoder]\n",
        "print(stages)\n",
        "\n",
        "#StringIndexer for target variable\n",
        "string_indexer_label = StringIndexer(inputCol='deposit', outputCol= 'label')\n",
        "stages +=[string_indexer_label]\n",
        "print(stages)\n",
        "\n",
        "#########Vector Assembler#######\n",
        "###NOTE: When running the first time, please uncomment the next two commented code for removing the 2nd item in list (since we don't need it)\n",
        "del(numeric_variables[2])\n",
        "numeric_variables\n",
        "\n",
        "assembler_inputs = [x + \"classVec\" for x in categorical_variables] + numeric_variables\n",
        "assembler_inputs\n",
        "assembler = VectorAssembler(inputCols=assembler_inputs, outputCol=\"features\")\n",
        "stages +=[assembler]\n",
        "print(stages)"
      ],
      "execution_count": 21,
      "outputs": [
        {
          "output_type": "stream",
          "text": [
            "['job', 'marital', 'education', 'default', 'housing', 'loan', 'contact', 'month', 'poutcome', 'deposit']\n",
            "['job', 'marital', 'education', 'default', 'housing', 'loan', 'contact', 'poutcome']\n",
            "[]\n",
            "[StringIndexer_f9ec692fd80c, OneHotEncoder_6be121e2da2a, StringIndexer_3aa7b56d57e1, OneHotEncoder_347aafc19a80, StringIndexer_af6cf4689557, OneHotEncoder_ec6f0699a16f, StringIndexer_651f1b4ea40f, OneHotEncoder_a8cd6d2c1a4f, StringIndexer_621212989207, OneHotEncoder_57b800a9104c, StringIndexer_7c75f1f74325, OneHotEncoder_e986f7099853, StringIndexer_d95c52f9d115, OneHotEncoder_f3045f1ab21d, StringIndexer_0d16e0841eb9, OneHotEncoder_58a373fc5b67]\n",
            "[StringIndexer_f9ec692fd80c, OneHotEncoder_6be121e2da2a, StringIndexer_3aa7b56d57e1, OneHotEncoder_347aafc19a80, StringIndexer_af6cf4689557, OneHotEncoder_ec6f0699a16f, StringIndexer_651f1b4ea40f, OneHotEncoder_a8cd6d2c1a4f, StringIndexer_621212989207, OneHotEncoder_57b800a9104c, StringIndexer_7c75f1f74325, OneHotEncoder_e986f7099853, StringIndexer_d95c52f9d115, OneHotEncoder_f3045f1ab21d, StringIndexer_0d16e0841eb9, OneHotEncoder_58a373fc5b67, StringIndexer_414bf78dde83]\n",
            "[StringIndexer_f9ec692fd80c, OneHotEncoder_6be121e2da2a, StringIndexer_3aa7b56d57e1, OneHotEncoder_347aafc19a80, StringIndexer_af6cf4689557, OneHotEncoder_ec6f0699a16f, StringIndexer_651f1b4ea40f, OneHotEncoder_a8cd6d2c1a4f, StringIndexer_621212989207, OneHotEncoder_57b800a9104c, StringIndexer_7c75f1f74325, OneHotEncoder_e986f7099853, StringIndexer_d95c52f9d115, OneHotEncoder_f3045f1ab21d, StringIndexer_0d16e0841eb9, OneHotEncoder_58a373fc5b67, StringIndexer_414bf78dde83, VectorAssembler_93d558470c57]\n"
          ],
          "name": "stdout"
        }
      ]
    },
    {
      "cell_type": "code",
      "metadata": {
        "id": "9KaWNpxB-JDM",
        "colab": {
          "base_uri": "https://localhost:8080/"
        },
        "outputId": "af7081f4-4b9e-46b6-dc80-98c680b08d3c"
      },
      "source": [
        "#Building our Machine Learning Pipeline\n",
        "cols = df_final.columns\n",
        "from pyspark.ml import Pipeline\n",
        "pipeline = Pipeline(stages = stages)\n",
        "pipeline_model = pipeline.fit(df_final)\n",
        "df_final = pipeline_model.transform(df_final)\n",
        "all_columns = ['label', 'features'] + cols\n",
        "df_final = df_final.select(all_columns)\n",
        "df_final.dtypes\n",
        "\n"
      ],
      "execution_count": 22,
      "outputs": [
        {
          "output_type": "execute_result",
          "data": {
            "text/plain": [
              "[('label', 'double'),\n",
              " ('features', 'vector'),\n",
              " ('age', 'int'),\n",
              " ('job', 'string'),\n",
              " ('marital', 'string'),\n",
              " ('education', 'string'),\n",
              " ('default', 'string'),\n",
              " ('balance', 'int'),\n",
              " ('housing', 'string'),\n",
              " ('loan', 'string'),\n",
              " ('contact', 'string'),\n",
              " ('duration', 'int'),\n",
              " ('campaign', 'int'),\n",
              " ('pdays', 'int'),\n",
              " ('previous', 'int'),\n",
              " ('poutcome', 'string'),\n",
              " ('deposit', 'string')]"
            ]
          },
          "metadata": {
            "tags": []
          },
          "execution_count": 22
        }
      ]
    },
    {
      "cell_type": "code",
      "metadata": {
        "colab": {
          "base_uri": "https://localhost:8080/"
        },
        "id": "iGejHvzQ_ej4",
        "outputId": "77824785-b05a-44c6-9542-9149cc9cadd4"
      },
      "source": [
        "df_pandas = df_final.toPandas()\n",
        "#df_pandas.head(3)\n",
        "df_pandas.iloc[3,1]\n"
      ],
      "execution_count": 23,
      "outputs": [
        {
          "output_type": "execute_result",
          "data": {
            "text/plain": [
              "SparseVector(30, {4: 1.0, 11: 1.0, 13: 1.0, 16: 1.0, 18: 1.0, 20: 1.0, 21: 1.0, 24: 55.0, 25: 2476.0, 26: 579.0, 27: 1.0, 28: -1.0})"
            ]
          },
          "metadata": {
            "tags": []
          },
          "execution_count": 23
        }
      ]
    },
    {
      "cell_type": "code",
      "metadata": {
        "id": "-m8qSUOtpqBt"
      },
      "source": [
        "#df_pandas"
      ],
      "execution_count": 24,
      "outputs": []
    },
    {
      "cell_type": "code",
      "metadata": {
        "colab": {
          "base_uri": "https://localhost:8080/"
        },
        "id": "jHbaBuomEYK4",
        "outputId": "85ef5480-b054-4254-d6df-a64224878040"
      },
      "source": [
        "categorical_variables\n",
        "for i in df_pandas[categorical_variables]:\n",
        "  print(i, df_pandas[i].unique(), len(df_pandas[i].unique()))\n",
        "# We need to perform n - 1 for each category because of DropLast = True. \n",
        "# Currently, there are n categories for each feature in this loop. \n",
        "# Post n-1, we get a total of 24 categories in dataset and combining them with 6 numeric features, gives us a total of 30 features, which can be\n",
        "# seen from the feature variable, which has been created via assembling all data points per row to form a feature vector (per row)."
      ],
      "execution_count": 25,
      "outputs": [
        {
          "output_type": "stream",
          "text": [
            "job ['admin.' 'technician' 'services' 'management' 'retired' 'blue-collar'\n",
            " 'unemployed' 'entrepreneur' 'housemaid' 'unknown' 'self-employed'\n",
            " 'student'] 12\n",
            "marital ['married' 'single' 'divorced'] 3\n",
            "education ['secondary' 'tertiary' 'primary' 'unknown'] 4\n",
            "default ['no' 'yes'] 2\n",
            "housing ['yes' 'no'] 2\n",
            "loan ['no' 'yes'] 2\n",
            "contact ['unknown' 'cellular' 'telephone'] 3\n",
            "poutcome ['unknown' 'other' 'failure' 'success'] 4\n"
          ],
          "name": "stdout"
        }
      ]
    },
    {
      "cell_type": "code",
      "metadata": {
        "colab": {
          "base_uri": "https://localhost:8080/"
        },
        "id": "tMvv7A7xmYAE",
        "outputId": "5c8a6f50-531b-4e74-8c0e-73decd5e9aad"
      },
      "source": [
        "#Train - Test Split\n",
        "train, test = df_final.randomSplit([0.7, 0.3], seed = 111)\n",
        "print(\"Training Dataset Count: \" + str(train.count()))\n",
        "print(\"Test Dataset Count: \" + str(test.count()))\n"
      ],
      "execution_count": 26,
      "outputs": [
        {
          "output_type": "stream",
          "text": [
            "Training Dataset Count: 7843\n",
            "Test Dataset Count: 3319\n"
          ],
          "name": "stdout"
        }
      ]
    },
    {
      "cell_type": "code",
      "metadata": {
        "id": "PLsNQUpqm8sE"
      },
      "source": [
        "#Logistic Regression\n",
        "from pyspark.ml.classification import LogisticRegression\n",
        "lr = LogisticRegression(featuresCol = 'features', labelCol = 'label', maxIter=20)\n",
        "lrModel = lr.fit(train)"
      ],
      "execution_count": 27,
      "outputs": []
    },
    {
      "cell_type": "code",
      "metadata": {
        "colab": {
          "base_uri": "https://localhost:8080/",
          "height": 279
        },
        "id": "uZz9IcQzxYZ5",
        "outputId": "8023e9d0-f5b1-4fb3-f03b-76f907e5a70a"
      },
      "source": [
        "import matplotlib.pyplot as plt\n",
        "import numpy as np\n",
        "beta = np.sort(lrModel.coefficients)\n",
        "plt.plot(beta, color = 'green')\n",
        "plt.ylabel('Beta Coefficients')\n",
        "plt.xlabel('Number of Features in Feature Vector Assembler')\n",
        "plt.show()\n"
      ],
      "execution_count": 28,
      "outputs": [
        {
          "output_type": "display_data",
          "data": {
            "image/png": "[encoded data removed]",
            "text/plain": [
              "<Figure size 432x288 with 1 Axes>"
            ]
          },
          "metadata": {
            "tags": [],
            "needs_background": "light"
          }
        }
      ]
    },
    {
      "cell_type": "code",
      "metadata": {
        "colab": {
          "base_uri": "https://localhost:8080/",
          "height": 312
        },
        "id": "G1sQFfopD663",
        "outputId": "6f127405-4e1f-4abc-d852-e090061f11bd"
      },
      "source": [
        "trainingSummary = lrModel.summary\n",
        "roc = trainingSummary.roc.toPandas()\n",
        "plt.plot(roc['FPR'],roc['TPR'], color = \"darkorange\")\n",
        "plt.ylabel('False Positive Rate')\n",
        "plt.xlabel('True Positive Rate')\n",
        "plt.title('ROC Curve')\n",
        "plt.show()\n",
        "print('Training set areaUnderROC: ' + str(trainingSummary.areaUnderROC))"
      ],
      "execution_count": 29,
      "outputs": [
        {
          "output_type": "display_data",
          "data": {
            "image/png": "[encoded data removed]",
            "text/plain": [
              "<Figure size 432x288 with 1 Axes>"
            ]
          },
          "metadata": {
            "tags": [],
            "needs_background": "light"
          }
        },
        {
          "output_type": "stream",
          "text": [
            "Training set areaUnderROC: 0.8873176438519467\n"
          ],
          "name": "stdout"
        }
      ]
    },
    {
      "cell_type": "code",
      "metadata": {
        "colab": {
          "base_uri": "https://localhost:8080/",
          "height": 279
        },
        "id": "zwlgYVqhJlPH",
        "outputId": "bf45c723-56a5-480d-ef03-80c43c979980"
      },
      "source": [
        "pr = trainingSummary.pr.toPandas()\n",
        "plt.plot(pr['recall'],pr['precision'])\n",
        "plt.ylabel('Precision')\n",
        "plt.xlabel('Recall')\n",
        "plt.show()"
      ],
      "execution_count": 30,
      "outputs": [
        {
          "output_type": "display_data",
          "data": {
            "image/png": "[encoded data removed]",
            "text/plain": [
              "<Figure size 432x288 with 1 Axes>"
            ]
          },
          "metadata": {
            "tags": [],
            "needs_background": "light"
          }
        }
      ]
    },
    {
      "cell_type": "code",
      "metadata": {
        "colab": {
          "base_uri": "https://localhost:8080/"
        },
        "id": "RXdPEHwpJs-G",
        "outputId": "a0347162-f7da-4e3a-d9b3-4d0070dab409"
      },
      "source": [
        "predictions = lrModel.transform(test)\n",
        "predictions.select('age', 'job', 'label', 'rawPrediction', 'prediction', 'probability').show(10)"
      ],
      "execution_count": 31,
      "outputs": [
        {
          "output_type": "stream",
          "text": [
            "+---+----------+-----+--------------------+----------+--------------------+\n",
            "|age|       job|label|       rawPrediction|prediction|         probability|\n",
            "+---+----------+-----+--------------------+----------+--------------------+\n",
            "| 34|management|  0.0|[0.23227426403389...|       0.0|[0.55780889383587...|\n",
            "| 37|management|  0.0|[1.07827232318531...|       0.0|[0.74616689732780...|\n",
            "| 42|management|  0.0|[1.42350053763192...|       0.0|[0.80588660378317...|\n",
            "| 32|management|  0.0|[1.13670611552191...|       0.0|[0.75707436465925...|\n",
            "| 44|management|  0.0|[0.94144140626849...|       0.0|[0.71939072279361...|\n",
            "| 57|management|  0.0|[1.08710009769855...|       0.0|[0.74783525786982...|\n",
            "| 36|management|  0.0|[1.13336142708195...|       0.0|[0.75645870494901...|\n",
            "| 40|management|  0.0|[1.53363719113977...|       0.0|[0.82253785555589...|\n",
            "| 46|management|  0.0|[2.10550235325418...|       0.0|[0.89143682923626...|\n",
            "| 47|management|  0.0|[0.60209164847146...|       0.0|[0.64613469651098...|\n",
            "+---+----------+-----+--------------------+----------+--------------------+\n",
            "only showing top 10 rows\n",
            "\n"
          ],
          "name": "stdout"
        }
      ]
    },
    {
      "cell_type": "code",
      "metadata": {
        "colab": {
          "base_uri": "https://localhost:8080/"
        },
        "id": "3KSM6AztJxeB",
        "outputId": "85036056-613d-4a9b-e441-34224107d4aa"
      },
      "source": [
        "from pyspark.ml.evaluation import BinaryClassificationEvaluator\n",
        "evaluator = BinaryClassificationEvaluator()\n",
        "print('Test Area Under ROC', evaluator.evaluate(predictions))"
      ],
      "execution_count": 32,
      "outputs": [
        {
          "output_type": "stream",
          "text": [
            "Test Area Under ROC 0.882180280221685\n"
          ],
          "name": "stdout"
        }
      ]
    },
    {
      "cell_type": "code",
      "metadata": {
        "colab": {
          "base_uri": "https://localhost:8080/"
        },
        "id": "Sa72udpMJ1w5",
        "outputId": "ae7c007d-f522-4e13-ec92-03c0db81503a"
      },
      "source": [
        "# Decision Trees\n",
        "from pyspark.ml.classification import DecisionTreeClassifier\n",
        "dt = DecisionTreeClassifier(featuresCol = 'features', labelCol = 'label', maxDepth = 3)\n",
        "dtModel = dt.fit(train)\n",
        "predictions = dtModel.transform(test)\n",
        "predictions.select('age', 'job', 'label', 'rawPrediction', 'prediction', 'probability').show(10)\n",
        "\n",
        "\n",
        "\n"
      ],
      "execution_count": 33,
      "outputs": [
        {
          "output_type": "stream",
          "text": [
            "+---+----------+-----+--------------+----------+--------------------+\n",
            "|age|       job|label| rawPrediction|prediction|         probability|\n",
            "+---+----------+-----+--------------+----------+--------------------+\n",
            "| 34|management|  0.0|[845.0,1392.0]|       1.0|[0.37773804202056...|\n",
            "| 37|management|  0.0|[2489.0,487.0]|       0.0|[0.83635752688172...|\n",
            "| 42|management|  0.0|[2489.0,487.0]|       0.0|[0.83635752688172...|\n",
            "| 32|management|  0.0|[2489.0,487.0]|       0.0|[0.83635752688172...|\n",
            "| 44|management|  0.0|[2489.0,487.0]|       0.0|[0.83635752688172...|\n",
            "| 57|management|  0.0|[2489.0,487.0]|       0.0|[0.83635752688172...|\n",
            "| 36|management|  0.0|  [416.0,38.0]|       0.0|[0.91629955947136...|\n",
            "| 40|management|  0.0|  [416.0,38.0]|       0.0|[0.91629955947136...|\n",
            "| 46|management|  0.0|[2489.0,487.0]|       0.0|[0.83635752688172...|\n",
            "| 47|management|  0.0|[845.0,1392.0]|       1.0|[0.37773804202056...|\n",
            "+---+----------+-----+--------------+----------+--------------------+\n",
            "only showing top 10 rows\n",
            "\n"
          ],
          "name": "stdout"
        }
      ]
    },
    {
      "cell_type": "code",
      "metadata": {
        "colab": {
          "base_uri": "https://localhost:8080/"
        },
        "id": "dkkKqXL9KEOY",
        "outputId": "00f36962-7f72-4de7-b1bc-1247b44c55eb"
      },
      "source": [
        "evaluator = BinaryClassificationEvaluator()\n",
        "print(\"Test Area Under ROC: \" + str(evaluator.evaluate(predictions, {evaluator.metricName: \"areaUnderROC\"})))"
      ],
      "execution_count": 34,
      "outputs": [
        {
          "output_type": "stream",
          "text": [
            "Test Area Under ROC: 0.7688262112991489\n"
          ],
          "name": "stdout"
        }
      ]
    },
    {
      "cell_type": "code",
      "metadata": {
        "colab": {
          "base_uri": "https://localhost:8080/"
        },
        "id": "0v_OMLybKM57",
        "outputId": "2d5a843b-cbf6-4136-a03c-85b17899abfd"
      },
      "source": [
        "from pyspark.ml.classification import RandomForestClassifier\n",
        "rf = RandomForestClassifier(featuresCol = 'features', labelCol = 'label')\n",
        "rfModel = rf.fit(train)\n",
        "predictions = rfModel.transform(test)\n",
        "predictions.select('age', 'job', 'label', 'rawPrediction', 'prediction', 'probability').show(10)"
      ],
      "execution_count": 35,
      "outputs": [
        {
          "output_type": "stream",
          "text": [
            "+---+----------+-----+--------------------+----------+--------------------+\n",
            "|age|       job|label|       rawPrediction|prediction|         probability|\n",
            "+---+----------+-----+--------------------+----------+--------------------+\n",
            "| 34|management|  0.0|[9.60493129370130...|       1.0|[0.48024656468506...|\n",
            "| 37|management|  0.0|[14.7931681953967...|       0.0|[0.73965840976983...|\n",
            "| 42|management|  0.0|[14.2619205875643...|       0.0|[0.71309602937821...|\n",
            "| 32|management|  0.0|[15.1212713916369...|       0.0|[0.75606356958184...|\n",
            "| 44|management|  0.0|[14.7931681953967...|       0.0|[0.73965840976983...|\n",
            "| 57|management|  0.0|[14.5923319837989...|       0.0|[0.72961659918994...|\n",
            "| 36|management|  0.0|[14.0456675757228...|       0.0|[0.70228337878614...|\n",
            "| 40|management|  0.0|[14.0456675757228...|       0.0|[0.70228337878614...|\n",
            "| 46|management|  0.0|[16.5317096662812...|       0.0|[0.82658548331406...|\n",
            "| 47|management|  0.0|[8.74282839146477...|       1.0|[0.43714141957323...|\n",
            "+---+----------+-----+--------------------+----------+--------------------+\n",
            "only showing top 10 rows\n",
            "\n"
          ],
          "name": "stdout"
        }
      ]
    },
    {
      "cell_type": "code",
      "metadata": {
        "colab": {
          "base_uri": "https://localhost:8080/"
        },
        "id": "Y2NihYA6KRwJ",
        "outputId": "38fa5bdd-034f-4a4f-b768-3f1e27f12bec"
      },
      "source": [
        "evaluator = BinaryClassificationEvaluator()\n",
        "print(\"Test Area Under ROC: \" + str(evaluator.evaluate(predictions, {evaluator.metricName: \"areaUnderROC\"})))"
      ],
      "execution_count": 36,
      "outputs": [
        {
          "output_type": "stream",
          "text": [
            "Test Area Under ROC: 0.8740465851804623\n"
          ],
          "name": "stdout"
        }
      ]
    },
    {
      "cell_type": "code",
      "metadata": {
        "colab": {
          "base_uri": "https://localhost:8080/"
        },
        "id": "3849hENNKfWi",
        "outputId": "0a35323b-a3c4-4759-cbd2-779ca143f1f0"
      },
      "source": [
        "#Gradient Boosting Tree Classifier\n",
        "from pyspark.ml.classification import GBTClassifier\n",
        "gbt = GBTClassifier(maxIter=10)\n",
        "gbtModel = gbt.fit(train)\n",
        "predictions = gbtModel.transform(test)\n",
        "predictions.select('age', 'job', 'label', 'rawPrediction', 'prediction', 'probability').show(10)"
      ],
      "execution_count": 37,
      "outputs": [
        {
          "output_type": "stream",
          "text": [
            "+---+----------+-----+--------------------+----------+--------------------+\n",
            "|age|       job|label|       rawPrediction|prediction|         probability|\n",
            "+---+----------+-----+--------------------+----------+--------------------+\n",
            "| 34|management|  0.0|[-0.1379334480210...|       1.0|[0.43146735146133...|\n",
            "| 37|management|  0.0|[0.62197489330243...|       0.0|[0.77625078341155...|\n",
            "| 42|management|  0.0|[1.20862248237840...|       0.0|[0.91813290106157...|\n",
            "| 32|management|  0.0|[0.70697416510970...|       0.0|[0.80438795213405...|\n",
            "| 44|management|  0.0|[0.66751006881570...|       0.0|[0.79166981202314...|\n",
            "| 57|management|  0.0|[0.56219096811074...|       0.0|[0.75480061571150...|\n",
            "| 36|management|  0.0|[1.12218258958006...|       0.0|[0.90416337754277...|\n",
            "| 40|management|  0.0|[1.22491088090701...|       0.0|[0.92054841562509...|\n",
            "| 46|management|  0.0|[0.58568503698017...|       0.0|[0.76339257374513...|\n",
            "| 47|management|  0.0|[-0.2573502089919...|       1.0|[0.37409228589155...|\n",
            "+---+----------+-----+--------------------+----------+--------------------+\n",
            "only showing top 10 rows\n",
            "\n"
          ],
          "name": "stdout"
        }
      ]
    },
    {
      "cell_type": "code",
      "metadata": {
        "colab": {
          "base_uri": "https://localhost:8080/"
        },
        "id": "346MKj3WK_ss",
        "outputId": "d635c183-0dea-42cc-a7eb-11096c82625f"
      },
      "source": [
        "evaluator = BinaryClassificationEvaluator()\n",
        "print(\"Test Area Under ROC: \" + str(evaluator.evaluate(predictions, {evaluator.metricName: \"areaUnderROC\"})))\n"
      ],
      "execution_count": 38,
      "outputs": [
        {
          "output_type": "stream",
          "text": [
            "Test Area Under ROC: 0.8836635519598336\n"
          ],
          "name": "stdout"
        }
      ]
    },
    {
      "cell_type": "code",
      "metadata": {
        "colab": {
          "base_uri": "https://localhost:8080/"
        },
        "id": "dKpx3zAuk0gl",
        "outputId": "f03a6957-faf9-4b88-80bd-abfe1592e86e"
      },
      "source": [
        "# K-Fold Cross Validation with hyperparameter tuning (for GBT Classifier since it provided highest accuracy prior to cross validation) \n",
        "from pyspark.ml.tuning import ParamGridBuilder, CrossValidator\n",
        "paramGrid = (ParamGridBuilder()\n",
        "             .addGrid(gbt.maxDepth, [2, 4, 6])\n",
        "             .addGrid(gbt.maxBins, [20, 60])\n",
        "             .addGrid(gbt.maxIter, [10, 20])\n",
        "             .build())\n",
        "cv = CrossValidator(estimator=gbt, estimatorParamMaps=paramGrid, evaluator=evaluator, numFolds=5)\n",
        "\n",
        "cvModel = cv.fit(train)\n",
        "predictions = cvModel.transform(test)\n",
        "evaluator.evaluate(predictions)"
      ],
      "execution_count": 39,
      "outputs": [
        {
          "output_type": "execute_result",
          "data": {
            "text/plain": [
              "0.8910054649344297"
            ]
          },
          "metadata": {
            "tags": []
          },
          "execution_count": 39
        }
      ]
    }
  ]
}